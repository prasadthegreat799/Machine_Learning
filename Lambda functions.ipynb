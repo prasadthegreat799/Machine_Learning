{
 "cells": [
  {
   "cell_type": "code",
   "execution_count": null,
   "id": "celtic-throw",
   "metadata": {},
   "outputs": [],
   "source": [
    "#lambda function with filter"
   ]
  },
  {
   "cell_type": "code",
   "execution_count": 23,
   "id": "major-column",
   "metadata": {},
   "outputs": [
    {
     "name": "stdout",
     "output_type": "stream",
     "text": [
      "[2, 4, 6, 8, 10]\n"
     ]
    }
   ],
   "source": [
    "list1=[1,2,3,4,5,6,7,8,9,10]\n",
    "print(list(filter(lambda x:x%2==0,list1)))"
   ]
  },
  {
   "cell_type": "code",
   "execution_count": null,
   "id": "coordinated-venezuela",
   "metadata": {},
   "outputs": [],
   "source": [
    "#lambda function using map"
   ]
  },
  {
   "cell_type": "code",
   "execution_count": 25,
   "id": "equipped-sharp",
   "metadata": {},
   "outputs": [
    {
     "name": "stdout",
     "output_type": "stream",
     "text": [
      "[3, 6, 9, 12, 15, 18, 21, 24, 27, 30]\n"
     ]
    }
   ],
   "source": [
    "print(list(map(lambda x:x*3,list1)))"
   ]
  },
  {
   "cell_type": "code",
   "execution_count": null,
   "id": "certain-paper",
   "metadata": {},
   "outputs": [],
   "source": [
    "#lambda function using reduce"
   ]
  },
  {
   "cell_type": "code",
   "execution_count": 33,
   "id": "serial-optics",
   "metadata": {},
   "outputs": [
    {
     "name": "stdout",
     "output_type": "stream",
     "text": [
      "55\n"
     ]
    }
   ],
   "source": [
    "from functools import reduce\n",
    "print(reduce(lambda x,y:x+y,list1))"
   ]
  },
  {
   "cell_type": "code",
   "execution_count": null,
   "id": "daily-faculty",
   "metadata": {},
   "outputs": [],
   "source": []
  }
 ],
 "metadata": {
  "kernelspec": {
   "display_name": "Python 3",
   "language": "python",
   "name": "python3"
  },
  "language_info": {
   "codemirror_mode": {
    "name": "ipython",
    "version": 3
   },
   "file_extension": ".py",
   "mimetype": "text/x-python",
   "name": "python",
   "nbconvert_exporter": "python",
   "pygments_lexer": "ipython3",
   "version": "3.8.5"
  }
 },
 "nbformat": 4,
 "nbformat_minor": 5
}
